{
 "cells": [
  {
   "cell_type": "markdown",
   "metadata": {},
   "source": [
    "# Tutorial de Machine Learning #4 - Como Fazer Validação Cruzada com Scikit-learn\n",
    "\n",
    "## Titanic: Machine Learning from Disaster\n",
    "\n",
    "**Predict survival on the Titanic and get familiar with ML basics: [Start here!](https://www.kaggle.com/c/titanic/data)**"
   ]
  },
  {
   "cell_type": "code",
   "execution_count": 1,
   "metadata": {},
   "outputs": [],
   "source": [
    "import pandas as pd\n",
    "import numpy as np\n",
    "import seaborn as sns\n",
    "\n",
    "from matplotlib import pyplot as plt\n",
    "\n",
    "%matplotlib inline"
   ]
  },
  {
   "cell_type": "code",
   "execution_count": 2,
   "metadata": {},
   "outputs": [],
   "source": [
    "train = pd.read_csv('data/train.csv') \n",
    "test = pd.read_csv('data/train.csv')"
   ]
  },
  {
   "cell_type": "code",
   "execution_count": 3,
   "metadata": {},
   "outputs": [],
   "source": [
    "def transformar_sexo(valor):\n",
    "    if valor == 'female':\n",
    "        return 1\n",
    "    else:\n",
    "        return 0\n",
    "\n",
    "train['Sex_binario'] = train['Sex'].map(transformar_sexo)\n",
    "test['Sex_binario'] = test['Sex'].map(transformar_sexo)"
   ]
  },
  {
   "cell_type": "code",
   "execution_count": 4,
   "metadata": {},
   "outputs": [],
   "source": [
    "variaveis = ['Sex_binario', 'Age']\n",
    "\n",
    "X = train[variaveis]\n",
    "y = train['Survived']"
   ]
  },
  {
   "cell_type": "code",
   "execution_count": 6,
   "metadata": {},
   "outputs": [],
   "source": [
    "from sklearn.model_selection import train_test_split"
   ]
  },
  {
   "cell_type": "code",
   "execution_count": 8,
   "metadata": {},
   "outputs": [],
   "source": [
    "X = X.fillna(-1)"
   ]
  },
  {
   "cell_type": "code",
   "execution_count": 9,
   "metadata": {},
   "outputs": [
    {
     "data": {
      "text/html": [
       "<div>\n",
       "<style scoped>\n",
       "    .dataframe tbody tr th:only-of-type {\n",
       "        vertical-align: middle;\n",
       "    }\n",
       "\n",
       "    .dataframe tbody tr th {\n",
       "        vertical-align: top;\n",
       "    }\n",
       "\n",
       "    .dataframe thead th {\n",
       "        text-align: right;\n",
       "    }\n",
       "</style>\n",
       "<table border=\"1\" class=\"dataframe\">\n",
       "  <thead>\n",
       "    <tr style=\"text-align: right;\">\n",
       "      <th></th>\n",
       "      <th>Sex_binario</th>\n",
       "      <th>Age</th>\n",
       "    </tr>\n",
       "  </thead>\n",
       "  <tbody>\n",
       "    <tr>\n",
       "      <th>0</th>\n",
       "      <td>0</td>\n",
       "      <td>22.0</td>\n",
       "    </tr>\n",
       "    <tr>\n",
       "      <th>1</th>\n",
       "      <td>1</td>\n",
       "      <td>38.0</td>\n",
       "    </tr>\n",
       "    <tr>\n",
       "      <th>2</th>\n",
       "      <td>1</td>\n",
       "      <td>26.0</td>\n",
       "    </tr>\n",
       "    <tr>\n",
       "      <th>3</th>\n",
       "      <td>1</td>\n",
       "      <td>35.0</td>\n",
       "    </tr>\n",
       "    <tr>\n",
       "      <th>4</th>\n",
       "      <td>0</td>\n",
       "      <td>35.0</td>\n",
       "    </tr>\n",
       "  </tbody>\n",
       "</table>\n",
       "</div>"
      ],
      "text/plain": [
       "   Sex_binario   Age\n",
       "0            0  22.0\n",
       "1            1  38.0\n",
       "2            1  26.0\n",
       "3            1  35.0\n",
       "4            0  35.0"
      ]
     },
     "execution_count": 9,
     "metadata": {},
     "output_type": "execute_result"
    }
   ],
   "source": [
    "X.head()"
   ]
  },
  {
   "cell_type": "code",
   "execution_count": 13,
   "metadata": {},
   "outputs": [
    {
     "data": {
      "text/plain": [
       "(891, 2)"
      ]
     },
     "execution_count": 13,
     "metadata": {},
     "output_type": "execute_result"
    }
   ],
   "source": [
    "X.shape"
   ]
  },
  {
   "cell_type": "markdown",
   "metadata": {},
   "source": [
    "### Divisão treino e teste"
   ]
  },
  {
   "cell_type": "code",
   "execution_count": null,
   "metadata": {},
   "outputs": [],
   "source": [
    "np.random.seed(0)\n",
    "X_treino, X_test, y_treino, y_test = train_test_split(X, y, test_size=0.5)\n"
   ]
  },
  {
   "cell_type": "markdown",
   "metadata": {},
   "source": [
    "## Validação cruzada"
   ]
  },
  {
   "cell_type": "code",
   "execution_count": 23,
   "metadata": {},
   "outputs": [],
   "source": [
    "from sklearn.model_selection import KFold\n",
    "from sklearn.ensemble import RandomForestClassifier"
   ]
  },
  {
   "cell_type": "code",
   "execution_count": 13,
   "metadata": {},
   "outputs": [
    {
     "data": {
      "text/plain": [
       "\u001b[1;31mInit signature:\u001b[0m \u001b[0mKFold\u001b[0m\u001b[1;33m(\u001b[0m\u001b[0mn_splits\u001b[0m\u001b[1;33m=\u001b[0m\u001b[1;34m'warn'\u001b[0m\u001b[1;33m,\u001b[0m \u001b[0mshuffle\u001b[0m\u001b[1;33m=\u001b[0m\u001b[1;32mFalse\u001b[0m\u001b[1;33m,\u001b[0m \u001b[0mrandom_state\u001b[0m\u001b[1;33m=\u001b[0m\u001b[1;32mNone\u001b[0m\u001b[1;33m)\u001b[0m\u001b[1;33m\u001b[0m\u001b[1;33m\u001b[0m\u001b[0m\n",
       "\u001b[1;31mDocstring:\u001b[0m     \n",
       "K-Folds cross-validator\n",
       "\n",
       "Provides train/test indices to split data in train/test sets. Split\n",
       "dataset into k consecutive folds (without shuffling by default).\n",
       "\n",
       "Each fold is then used once as a validation while the k - 1 remaining\n",
       "folds form the training set.\n",
       "\n",
       "Read more in the :ref:`User Guide <cross_validation>`.\n",
       "\n",
       "Parameters\n",
       "----------\n",
       "n_splits : int, default=3\n",
       "    Number of folds. Must be at least 2.\n",
       "\n",
       "    .. versionchanged:: 0.20\n",
       "        ``n_splits`` default value will change from 3 to 5 in v0.22.\n",
       "\n",
       "shuffle : boolean, optional\n",
       "    Whether to shuffle the data before splitting into batches.\n",
       "\n",
       "random_state : int, RandomState instance or None, optional, default=None\n",
       "    If int, random_state is the seed used by the random number generator;\n",
       "    If RandomState instance, random_state is the random number generator;\n",
       "    If None, the random number generator is the RandomState instance used\n",
       "    by `np.random`. Used when ``shuffle`` == True.\n",
       "\n",
       "Examples\n",
       "--------\n",
       ">>> import numpy as np\n",
       ">>> from sklearn.model_selection import KFold\n",
       ">>> X = np.array([[1, 2], [3, 4], [1, 2], [3, 4]])\n",
       ">>> y = np.array([1, 2, 3, 4])\n",
       ">>> kf = KFold(n_splits=2)\n",
       ">>> kf.get_n_splits(X)\n",
       "2\n",
       ">>> print(kf)  # doctest: +NORMALIZE_WHITESPACE\n",
       "KFold(n_splits=2, random_state=None, shuffle=False)\n",
       ">>> for train_index, test_index in kf.split(X):\n",
       "...    print(\"TRAIN:\", train_index, \"TEST:\", test_index)\n",
       "...    X_train, X_test = X[train_index], X[test_index]\n",
       "...    y_train, y_test = y[train_index], y[test_index]\n",
       "TRAIN: [2 3] TEST: [0 1]\n",
       "TRAIN: [0 1] TEST: [2 3]\n",
       "\n",
       "Notes\n",
       "-----\n",
       "The first ``n_samples % n_splits`` folds have size\n",
       "``n_samples // n_splits + 1``, other folds have size\n",
       "``n_samples // n_splits``, where ``n_samples`` is the number of samples.\n",
       "\n",
       "Randomized CV splitters may return different results for each call of\n",
       "split. You can make the results identical by setting ``random_state``\n",
       "to an integer.\n",
       "\n",
       "See also\n",
       "--------\n",
       "StratifiedKFold\n",
       "    Takes group information into account to avoid building folds with\n",
       "    imbalanced class distributions (for binary or multiclass\n",
       "    classification tasks).\n",
       "\n",
       "GroupKFold: K-fold iterator variant with non-overlapping groups.\n",
       "\n",
       "RepeatedKFold: Repeats K-Fold n times.\n",
       "\u001b[1;31mFile:\u001b[0m           c:\\users\\marcus\\anaconda3\\lib\\site-packages\\sklearn\\model_selection\\_split.py\n",
       "\u001b[1;31mType:\u001b[0m           ABCMeta\n",
       "\u001b[1;31mSubclasses:\u001b[0m     \n"
      ]
     },
     "metadata": {},
     "output_type": "display_data"
    }
   ],
   "source": [
    "?KFold"
   ]
  },
  {
   "cell_type": "code",
   "execution_count": 16,
   "metadata": {},
   "outputs": [
    {
     "name": "stdout",
     "output_type": "stream",
     "text": [
      "Treino:  [0 1 3 5 6 7]\n",
      "Valid:  [2 4 8 9]\n",
      "\n",
      "Treino:  [0 2 3 4 5 8 9]\n",
      "Valid:  [1 6 7]\n",
      "\n",
      "Treino:  [1 2 4 6 7 8 9]\n",
      "Valid:  [0 3 5]\n",
      "\n"
     ]
    }
   ],
   "source": [
    "X_falso = np.arange(10)\n",
    "X_falso\n",
    "\n",
    "# 3 split, \n",
    "kf = KFold(3, shuffle=True, random_state=0)\n",
    "\n",
    "for linhas_treino, linhas_valid in kf.split(X_falso):\n",
    "    print('Treino: ', linhas_treino)\n",
    "    print('Valid: ', linhas_valid)\n",
    "    print()"
   ]
  },
  {
   "cell_type": "markdown",
   "metadata": {},
   "source": [
    "## Criar 10 repetições de 2 validações aleatórias"
   ]
  },
  {
   "cell_type": "code",
   "execution_count": 37,
   "metadata": {},
   "outputs": [
    {
     "name": "stdout",
     "output_type": "stream",
     "text": [
      "Repedição:  0\n",
      "Treino:  445\n",
      "Valid:  446\n",
      "Accuracy:  0.7713004484304933\n",
      "\n",
      "Treino:  446\n",
      "Valid:  445\n",
      "Accuracy:  0.7797752808988764\n",
      "\n",
      "Repedição:  1\n",
      "Treino:  445\n",
      "Valid:  446\n",
      "Accuracy:  0.7443946188340808\n",
      "\n",
      "Treino:  446\n",
      "Valid:  445\n",
      "Accuracy:  0.7955056179775281\n",
      "\n",
      "Repedição:  2\n",
      "Treino:  445\n",
      "Valid:  446\n",
      "Accuracy:  0.7757847533632287\n",
      "\n",
      "Treino:  446\n",
      "Valid:  445\n",
      "Accuracy:  0.7887640449438202\n",
      "\n",
      "Repedição:  3\n",
      "Treino:  445\n",
      "Valid:  446\n",
      "Accuracy:  0.7533632286995515\n",
      "\n",
      "Treino:  446\n",
      "Valid:  445\n",
      "Accuracy:  0.7573033707865169\n",
      "\n",
      "Repedição:  4\n",
      "Treino:  445\n",
      "Valid:  446\n",
      "Accuracy:  0.7354260089686099\n",
      "\n",
      "Treino:  446\n",
      "Valid:  445\n",
      "Accuracy:  0.7415730337078652\n",
      "\n",
      "Repedição:  5\n",
      "Treino:  445\n",
      "Valid:  446\n",
      "Accuracy:  0.7219730941704036\n",
      "\n",
      "Treino:  446\n",
      "Valid:  445\n",
      "Accuracy:  0.7056179775280899\n",
      "\n",
      "Repedição:  6\n",
      "Treino:  445\n",
      "Valid:  446\n",
      "Accuracy:  0.7757847533632287\n",
      "\n",
      "Treino:  446\n",
      "Valid:  445\n",
      "Accuracy:  0.7303370786516854\n",
      "\n",
      "Repedição:  7\n",
      "Treino:  445\n",
      "Valid:  446\n",
      "Accuracy:  0.7040358744394619\n",
      "\n",
      "Treino:  446\n",
      "Valid:  445\n",
      "Accuracy:  0.7348314606741573\n",
      "\n",
      "Repedição:  8\n",
      "Treino:  445\n",
      "Valid:  446\n",
      "Accuracy:  0.7488789237668162\n",
      "\n",
      "Treino:  446\n",
      "Valid:  445\n",
      "Accuracy:  0.7887640449438202\n",
      "\n",
      "Repedição:  9\n",
      "Treino:  445\n",
      "Valid:  446\n",
      "Accuracy:  0.7623318385650224\n",
      "\n",
      "Treino:  446\n",
      "Valid:  445\n",
      "Accuracy:  0.7842696629213484\n",
      "\n"
     ]
    }
   ],
   "source": [
    "resultados = []\n",
    "\n",
    "for rep in range(10):\n",
    "    print('Repedição: ', rep)\n",
    "    kf = KFold(2, shuffle=True, random_state=rep)\n",
    "    \n",
    "    for linhas_treino, linhas_valid in kf.split(X):\n",
    "        print('Treino: ', linhas_treino.shape[0])\n",
    "        print('Valid: ', linhas_valid.shape[0])\n",
    "    #     print()\n",
    "\n",
    "        X_treino, X_valid = X.iloc[linhas_treino], X.iloc[linhas_valid]\n",
    "        y_treino, y_valid = y.iloc[linhas_treino], y.iloc[linhas_valid]\n",
    "\n",
    "        modelo = RandomForestClassifier(n_estimators=100, \n",
    "                                    n_jobs=-1, \n",
    "                                    random_state=0)\n",
    "        modelo.fit(X_treino, y_treino)\n",
    "\n",
    "        p = modelo.predict(X_valid)\n",
    "\n",
    "        acc = np.mean(y_valid == p)\n",
    "        resultados.append(acc)\n",
    "        print('Accuracy: ', acc)\n",
    "        print()\n",
    "\n",
    "    #     print(X_treino.head())\n",
    "    #     print()"
   ]
  },
  {
   "cell_type": "code",
   "execution_count": 40,
   "metadata": {},
   "outputs": [
    {
     "data": {
      "text/plain": [
       "20"
      ]
     },
     "execution_count": 40,
     "metadata": {},
     "output_type": "execute_result"
    }
   ],
   "source": [
    "len(resultados)"
   ]
  },
  {
   "cell_type": "code",
   "execution_count": 38,
   "metadata": {},
   "outputs": [
    {
     "data": {
      "text/plain": [
       "0.7550007557817302"
      ]
     },
     "execution_count": 38,
     "metadata": {},
     "output_type": "execute_result"
    }
   ],
   "source": [
    "np.mean(resultados)"
   ]
  }
 ],
 "metadata": {
  "kernelspec": {
   "display_name": "Python 3",
   "language": "python",
   "name": "python3"
  },
  "language_info": {
   "codemirror_mode": {
    "name": "ipython",
    "version": 3
   },
   "file_extension": ".py",
   "mimetype": "text/x-python",
   "name": "python",
   "nbconvert_exporter": "python",
   "pygments_lexer": "ipython3",
   "version": "3.6.9"
  }
 },
 "nbformat": 4,
 "nbformat_minor": 4
}
